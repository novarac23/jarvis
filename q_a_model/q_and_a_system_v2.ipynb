{
 "cells": [
  {
   "cell_type": "code",
   "execution_count": 1,
   "metadata": {},
   "outputs": [],
   "source": [
    "# Notes/comments\n",
    "# Current bottleneck of the system is the paragraph ranker. It doesn't do a great job \n",
    "# for some question <-> paragraph combos. This is a potential area for improvment.\n",
    "\n",
    "# ES does a pretty decent job and retrieving relevant documents. Sometimes it doesn't work right of\n",
    "# the bat but if we switch the \"searching technique\" (either title or text) it usually does a decent job."
   ]
  },
  {
   "cell_type": "code",
   "execution_count": 2,
   "metadata": {},
   "outputs": [],
   "source": [
    "from document_reader import DocumentReader\n",
    "from paragraph_ranker import ParagraphRanker\n",
    "from document_retriever import DocumentRetriever"
   ]
  },
  {
   "cell_type": "code",
   "execution_count": 3,
   "metadata": {},
   "outputs": [],
   "source": [
    "def get_chunks(lst, n):\n",
    "    \"\"\"Yield successive n-sized chunks from lst.\"\"\"\n",
    "    for i in range(0, len(lst), n):\n",
    "        yield lst[i:i + n]"
   ]
  },
  {
   "cell_type": "code",
   "execution_count": 4,
   "metadata": {},
   "outputs": [],
   "source": [
    "#question = \"When was Michael Jordan born?\" # got it right w/ title=True and Title=False\n",
    "#question = \"what is population of New York city?\" # got it right w/ Title=True and Title=False\n",
    "#question = \"Who was the first president of United States?\" # got it right w/ Title=True and Title=False\n",
    "#question = \"How tall is Eiffel Tower in Paris?\" # got it right w/ title=True\n",
    "#question = \"How many people live in Columbus Ohio?\" # failed to answer with both Title=True and Title=False\n",
    "#question = \"What is the population of Columbus Ohio?\" # worked with Title=True\n",
    "# question = \"When was Novak Djokovic born?\" # worked with Title=True\n",
    "# question = \"When did World War II start?\" # worked with Title=True\n",
    "# question = \"When did French revolution begin?\" # worked with title=False\n",
    "question = \"When did French revolution start?\" # worked with Title=False\n",
    "es_index = \"wikipedia-full\"\n",
    "es_config = {'host':'localhost', 'port':9200}\n",
    "model_name = \"ktrapeznikov/albert-xlarge-v2-squad-v2\"\n",
    "tokenizer_name = \"ktrapeznikov/albert-xlarge-v2-squad-v2\""
   ]
  },
  {
   "cell_type": "code",
   "execution_count": 5,
   "metadata": {},
   "outputs": [],
   "source": [
    "dr = DocumentRetriever(es_config)"
   ]
  },
  {
   "cell_type": "code",
   "execution_count": 6,
   "metadata": {},
   "outputs": [],
   "source": [
    "documents = dr.retrieve_docs(question, es_index, size=5, title=False)"
   ]
  },
  {
   "cell_type": "code",
   "execution_count": 7,
   "metadata": {},
   "outputs": [
    {
     "data": {
      "text/plain": [
       "{'took': 46,\n",
       " 'timed_out': False,\n",
       " '_shards': {'total': 1, 'successful': 1, 'skipped': 0, 'failed': 0},\n",
       " 'hits': {'total': {'value': 10000, 'relation': 'gte'},\n",
       "  'max_score': 19.79069,\n",
       "  'hits': [{'_index': 'wikipedia-full',\n",
       "    '_type': '_doc',\n",
       "    '_id': 'A1sXGHQBPcTp58A51Jgr',\n",
       "    '_score': 19.79069,\n",
       "    '_source': {'document_title': 'Zuka',\n",
       "     'document_text': 'ZukaZuka\\n\\nZenaida Gourievna Booyakovitch (1 January 1924 – 18 December 2016), known as Zuka, was an American artist of Russian descent who lived and worked in Paris. She was awarded \"Chevalier\" of \"L’ordre des Arts et des Lettres\" of France in 1990.\\n\\nZuka was born in 1924 in San Francisco to a family of Russian immigrants who came to the United States in 1920s. Her father was an officer in White Russian Army. Zuka received a bachelor\\'s degree in Fine Arts from the University of Southern California.\\n\\nIn 1948 she went to Paris using the money she received from California gallery grant. Two years later, in 1950, she married political cartoonist Louis Mitelberg and they lived in Paris ever since. They had two sons, Roland and François.\\n\\nZuka started with portrait painting in the Los Angeles area when she was a student of the University of Southern California. When she moved to Paris in 1948 first she painted artists and writers in frozen poses, but then she moved to figures from history combining painting and collage in narrative works. Influenced by her husband she became interested in historical imagery and did her first series on the American Revolution in 1970s.\\n\\nMore prominent are Zuka\\'s depictions of the French Revolution presented in the exhibition “The French Revolution through American Eyes,\" 1988. It was a result of her six years’ research of the French literature for period portraits and other appropriate images to reconstruct people and events. Zuka\\'s paintings of the French Revolution are of great significance as they position women as active participants of these historical events.\\n\\nThe most recent subjects of Zuka\\'s paintings were birds, cows and nature. She became familiar with these subjects at her country house in Burgundy and now Zuka\\'s cows exist in many formats ranging from large-scale oil paintings to postcards.\\n\\n\\n\\n\\n\\n\\n \\n'}},\n",
       "   {'_index': 'wikipedia-full',\n",
       "    '_type': '_doc',\n",
       "    '_id': 'qzDWFnQBPcTp58A5FpaM',\n",
       "    '_score': 18.9002,\n",
       "    '_source': {'document_title': 'Maurice-Marie-Matthieu Garrigou',\n",
       "     'document_text': 'Maurice-Marie-Matthieu GarrigouMaurice-Marie-Matthieu Garrigou\\n\\nMaurice-Marie-Matthieu Garrigou (21 September 1766 – 27 September 1852) was a French Roman Catholic priest who established the Sisters of Our Lady of Compassion. He served in the priesthood during the tumultuous French Revolution.\\n\\nPope Francis approved his life of heroic virtue and bestowed upon him the title of Venerable. A miracle attributed to him is now under investigation for his beatification.\\n\\nMaurice-Marie-Matthieu Garrigou was born on 21 September 1766 in the commune of Château-Verdun, France. His was born to Jean-Baptiste Garrigou and Catherine Fauré. His mother concerned herself with the education if the eight children. Garrigou was ten when his mother died.\\n\\nAt the age of eighteen he pursued his studies but decided to become a priest. He commenced his studies for the priesthood in 1784. The French Revolution started at the end of the decade. He was ordained to the priesthood in December 1790 and celebrated his first mass on Christmas Eve. He said of that mass: \"I felt that I was covered with the precious blood of Jesus Christ\".\\n\\nGarrigou spent long hours in solitude and would meditate before the crucifix of Christ. His pain of the cross came in the form of the French Revolution and its consequences. In light of the revolution he made it his goal to evangelize the population as part of his pastoral mission as a priest. He established the Sisters of Our Lady of Compassion in 1817.\\n\\nHe died in 1852 in France.\\n\\nThe beatification process opened in France on 12 March 1954. The Congregation for the Causes of Saints decreed the cause to reopen on 6 March 2001 and the ratification of the local process was signed on 22 June 2001. It resulted in the submission of the Positio – documentation on his life of heroic virtue – in 2001.\\n\\nPope Francis declared that he did indeed live a life of heroic virtue and bestowed upon him the title of Venerable on 9 December 2013.\\n\\nA miracle attributed to his intercession was investigated and was ratified on 2 June 2007.\\n\\n'}},\n",
       "   {'_index': 'wikipedia-full',\n",
       "    '_type': '_doc',\n",
       "    '_id': 'M1LVF3QBPcTp58A5RZBJ',\n",
       "    '_score': 18.819263,\n",
       "    '_source': {'document_title': 'La patrie en danger',\n",
       "     'document_text': 'La patrie en dangerLa patrie en danger\\n\\nLa patrie en danger (French: \"The country (fatherland) in danger\") was the start of a declaration by the French Assembly on 11 July 1792 in response to Prussia joining Austria against France. Along with the Levée en masse declared the next year, it was part of the growing idea of \"people\\'s war\" which developed during the French Revolution, where ideology \"not only conscripted manpower for the regular armies, but also inspired ordinary people to fight on their own account.\"\\n\\nThe text of the declaration reads:\\n\\nThe phrase was taken up in other contexts, and became rather over-used. In French and sometimes other languages it has become proverbial, mostly used sarcastically.\\n\\nAccording to Albert Soboul, the announcement of the fatherland in danger led to the unification of citizens at a time when their interests were jeopardized and intensified their participation both in political life and in military events. The text of the declaration was read on the streets of French cities and villages. In Paris alone, 15 thousand volunteers enrolled in the army, or about 2.5% of the population.\\n\\nAlong with the mass levy announced in 1793, this declaration became a stage in the development of the ideas of a “people\\'s war” and an “armed nation” developed during the French Revolution. The ideology of the people\\'s war was “not only to mobilize human resources for regular armies, but also to inspire ordinary people to fight at their own expense”.\\n\\nAt the same time, the success of the declaration of 1792 was closely linked with the then prevailing revolutionary moods in French society. In 1799, an attempt to adopt a similar declaration in the face of military defeats in the War of the Second Coalition did not end there. As F. Wartell observes, seven years later, “the spirit of 1792 was already dead”.\\n\\n\\n\\n'}},\n",
       "   {'_index': 'wikipedia-full',\n",
       "    '_type': '_doc',\n",
       "    '_id': '60iNF3QBPcTp58A5avLE',\n",
       "    '_score': 18.58216,\n",
       "    '_source': {'document_title': 'The Estates',\n",
       "     'document_text': 'The EstatesThe Estates\\n\\nThe Estates, also known as the States (, , ), was the assembly of the representatives of the estates of the realm, the divisions of society in feudal times, called together for purposes of deliberation, legislation or taxation. A meeting of the estates that covered an entire kingdom was called an estates general.\\n\\nThe first estate was the clergy, the second the nobility and the third the commoners, although actual membership in the third estate varied from country to country. Bourgeoisie, peasants and people with no estate from birth were separated in Sweden and Finland as late as 1905.\\n\\nRepresentation through estates was the norm in Europe until the advent of popular representation beginning with the French Revolution. The Estates General of France were convoked only twice between 1614 and 1789, both times during the Fronde (1648–53), and in neither case did they actually meet. At the final meeting of the Estates in 1789, they voted to join together in a single National Assembly, generally seen as marking the start of the French Revolution. Estates continued to meet in Navarre until 1828, in Hungary until 1848, in Sweden until 1866, and in the Duchy of Mecklenburg until 1918.\\n\\nIn some countries, the parliament kept the same name when its feudal organization was replaced with a more modern kind of representation, like census or universal suffrage. In Sweden, the Riksdag of the Estates was replaced with the Riksdag in 1866.\\n\\n'}},\n",
       "   {'_index': 'wikipedia-full',\n",
       "    '_type': '_doc',\n",
       "    '_id': 'L1TjF3QBPcTp58A5wYFN',\n",
       "    '_score': 18.565126,\n",
       "    '_source': {'document_title': 'Romanticism and the French Revolution',\n",
       "     'document_text': 'Romanticism and the French RevolutionRomanticism and the French Revolution\\n\\nRomanticism originated in the 2nd half of the 18th century at the same time as the French Revolution. Romanticism continued to grow in reaction to the effects of the social transformation caused by the Revolution. There are many signs of these effects of the French Revolution in various pieces of Romantic literature. By examining the influence of the French Revolution, one can determine that Romanticism arose as a reaction to the French Revolution. Instead of searching for rules governing nature and human beings, the romantics searched for a direct communication with nature and treated humans as unique individuals not subject to scientific rules.\\n\\nThe French Revolution played a huge role in influencing Romantic writers. As the Revolution began to play out, the absolute monarchy that had ruled France for centuries collapsed in only three years. This resulted in a complete transformation of society. A majority of the population was greatly in favor of this as the working class had been suffering oppression for many years. According to Albert Hancock, in his book \"The French Revolution and the English Poets: a study in historical criticism\", \"The French Revolution came, bringing with it the promise of a brighter day, the promise of regenerated man and regenerated earth. It was hailed with joy and acclamation by the oppressed, by the ardent lovers of humanity, by the poets, whose task it is to voice the human spirit.\"\\n\\nA common theme among some of the most widely known romantic poets is their acceptance and approval of the French Revolution. William Wordsworth, Samuel Taylor Coleridge, Lord Byron, and Percy Shelley all shared the same view of the French Revolution as it being the beginning of a change in the current ways of society and helping to improve the lives of the oppressed. As the French Revolution changed the lives of virtually everyone in the nation and even continent because of its drastic and immediate shift in social reformation, it greatly influenced many writers at the time. Hancock writes, \"There is no need to recount here in detail how the French Revolution, at the close of the last century, was the great stimulus to the intellectual and emotional life of the civilized world, how it began by inspiring all liberty-loving men with hope and joy.\"\\n\\nLiterature began to take a new turn when the spirit of the revolution caught the entire nation and turned things in a whole new direction. The newly acquired freedom of the common people did not only bring about just laws and living but ordinary people also had the freedom to think for themselves, and in turn the freedom to express themselves. Triggered by the revolutionary spirit, the writers of the time were full of creative ideas and were waiting for a chance to unleash them. Under the new laws writers and artists were given a considerable amount of freedom to express themselves which did well to pave the way to set a high standard for literature.\\n\\nPrior to the French Revolution, poems and literature were typically written about and to aristocrats and clergy, and rarely for or about the working man. However, when the roles of society began to shift resulting from the French Revolution, and with the emergence of Romantic writers, this changed. Romantic poets such as Wordsworth, Coleridge, Byron, and Shelley started to write works for and about the working man; pieces that the common man could relate to. According to Christensen, \"To get the real animating principle of the Romantic Movement, one must not study it inductively or abstractly; one must look at it historically. It must be put beside the literary standards of the eighteenth century. These standards impose limits upon the Elysian fields of poetry; poetry must be confined to the common experience of average men… The Romantic Movement then means the revolt of a group of contemporary poets who wrote, not according to common and doctrinaire standards, but as they individually pleased… there are no principles comprehensive and common to all except those of individualism and revolt.\"\\n\\nAlthough the poets mentioned earlier (Wordsworth, Coleridge, Byron, and Shelley) all share the common theme of approving the French Revolution, they each have their own unique ideas regarding the Revolution itself that have greatly shaped their work. This can be seen by analyzing some of each of their works.\\n\\nEver since he was young, Percy Shelley was very nontraditional. He was born a freethinker and \"in spite of all his lovable and generous traits he was a born disturber of the public peace\". At school he was known as \"Mad Shelley, the Atheist\". According to Hancock, \"The Goddess of Revolution rocked his cradle.\"\\n\\nThroughout his life Shelley\\'s opposition toward religion grew less violent; however, he never professed a belief in immortality or religion of any sort. His poems declare a belief in the permanence of things that are true and beautiful. Common themes that Shelley incorporated into his works include the hatred of kings, faith in the natural goodness of man, the belief in the corruption of present society, the power of reason, the rights of natural impulse, the desire for a revolution, and liberty, equality and fraternity. These are all clearly shaped by the French Revolution.\\n\\nWhile Shelley had faith that was founded upon modern ideas, Byron had faith in nothing. He stood for only destruction. Because of this he was not a true revolutionist and was rather \"the arch-apostle of revolt, of rebellion against constituted authority.\" This statement is easily defended as Byron admitted that he resisted authority but offered no substitute. This is supported by what Byron once wrote, \"I deny nothing… but I doubt everything.\" He then said later in life, \"I have simplified politics into an utter detestation of all existing governments.\" Byron believed neither in democracy nor in equality, but opposed all forms of tyranny and all attempts of rulers to control man.\\n\\nIn Byron\\'s poetry, he incorporated deep feeling, rather than deep thinking, to make his characters strong. Often, Byron portrayed his characters as being in complete harmony with nature, causing the character to lose himself in the immensity of the world. The French Revolution played a huge role in shaping Byron\\'s beliefs and opposition to monarchy.\\n\\nWhile Shelley and Byron both proved to support the revolution to the end, both Wordsworth and Coleridge joined the aristocrats in fighting it. Wordsworth, however is the Romantic poet who has most profoundly felt and expressed the connection of the soul with nature. He saw great value in the immediate contact with nature. The French Revolution helped to humanize Wordsworth as his works transitioned from extremely natural experiences to facing the realities and ills of life, including society and the Revolution. From then on, his focus became the interests of man rather than the power and innocence of nature.\\n\\nSamuel Taylor Coleridge was also profoundly affected by the French revolution. Unlike Wordsworth, Coleridge was more open and receptive to the social and political world around him. He was a very versatile man and he led a life that covered many fields and his work displayed this. He was a poet of nature, romance, and the Revolution. He was a philosopher, a historian, and a political figure. The French Revolution played a great role in shaping Coleridge into each of these things.\\n\\nAccording to Albert Hancock, Coleridge tended to focus his life on two things. The first, being to separate himself from the surrounding world and to submerge himself in thought, as a poet. The second, to play a role in the world\\'s affairs, as a philosopher, historian, and politician, as mentioned earlier.\\n'}}]}}"
      ]
     },
     "execution_count": 7,
     "metadata": {},
     "output_type": "execute_result"
    }
   ],
   "source": [
    "documents"
   ]
  },
  {
   "cell_type": "code",
   "execution_count": 8,
   "metadata": {},
   "outputs": [],
   "source": [
    "pr = ParagraphRanker(documents)"
   ]
  },
  {
   "cell_type": "code",
   "execution_count": 9,
   "metadata": {},
   "outputs": [
    {
     "name": "stderr",
     "output_type": "stream",
     "text": [
      "/home/novarac23/Projects/jarvis/q_a_model/paragraph_ranker.py:37: UserWarning: [W008] Evaluating Doc.similarity based on empty vectors.\n",
      "  similarity_score.append(doc_1.similarity(doc_2))\n"
     ]
    }
   ],
   "source": [
    "contexts = pr.rank_paragaraphs(question, n_paragraphs=8)"
   ]
  },
  {
   "cell_type": "code",
   "execution_count": 10,
   "metadata": {
    "scrolled": false
   },
   "outputs": [
    {
     "data": {
      "text/plain": [
       "['La patrie en danger (French: \"The country (fatherland) in danger\") was the start of a declaration by the French Assembly on 11 July 1792 in response to Prussia joining Austria against France. Along with the Levée en masse declared the next year, it was part of the growing idea of \"people\\'s war\" which developed during the French Revolution, where ideology \"not only conscripted manpower for the regular armies, but also inspired ordinary people to fight on their own account.\"',\n",
       " 'Samuel Taylor Coleridge was also profoundly affected by the French revolution. Unlike Wordsworth, Coleridge was more open and receptive to the social and political world around him. He was a very versatile man and he led a life that covered many fields and his work displayed this. He was a poet of nature, romance, and the Revolution. He was a philosopher, a historian, and a political figure. The French Revolution played a great role in shaping Coleridge into each of these things.',\n",
       " 'At the age of eighteen he pursued his studies but decided to become a priest. He commenced his studies for the priesthood in 1784. The French Revolution started at the end of the decade. He was ordained to the priesthood in December 1790 and celebrated his first mass on Christmas Eve. He said of that mass: \"I felt that I was covered with the precious blood of Jesus Christ\".',\n",
       " 'In 1948 she went to Paris using the money she received from California gallery grant. Two years later, in 1950, she married political cartoonist Louis Mitelberg and they lived in Paris ever since. They had two sons, Roland and François.',\n",
       " 'While Shelley had faith that was founded upon modern ideas, Byron had faith in nothing. He stood for only destruction. Because of this he was not a true revolutionist and was rather \"the arch-apostle of revolt, of rebellion against constituted authority.\" This statement is easily defended as Byron admitted that he resisted authority but offered no substitute. This is supported by what Byron once wrote, \"I deny nothing… but I doubt everything.\" He then said later in life, \"I have simplified politics into an utter detestation of all existing governments.\" Byron believed neither in democracy nor in equality, but opposed all forms of tyranny and all attempts of rulers to control man.',\n",
       " 'A common theme among some of the most widely known romantic poets is their acceptance and approval of the French Revolution. William Wordsworth, Samuel Taylor Coleridge, Lord Byron, and Percy Shelley all shared the same view of the French Revolution as it being the beginning of a change in the current ways of society and helping to improve the lives of the oppressed. As the French Revolution changed the lives of virtually everyone in the nation and even continent because of its drastic and immediate shift in social reformation, it greatly influenced many writers at the time. Hancock writes, \"There is no need to recount here in detail how the French Revolution, at the close of the last century, was the great stimulus to the intellectual and emotional life of the civilized world, how it began by inspiring all liberty-loving men with hope and joy.\"',\n",
       " 'The French Revolution played a huge role in influencing Romantic writers. As the Revolution began to play out, the absolute monarchy that had ruled France for centuries collapsed in only three years. This resulted in a complete transformation of society. A majority of the population was greatly in favor of this as the working class had been suffering oppression for many years. According to Albert Hancock, in his book \"The French Revolution and the English Poets: a study in historical criticism\", \"The French Revolution came, bringing with it the promise of a brighter day, the promise of regenerated man and regenerated earth. It was hailed with joy and acclamation by the oppressed, by the ardent lovers of humanity, by the poets, whose task it is to voice the human spirit.\"',\n",
       " 'Representation through estates was the norm in Europe until the advent of popular representation beginning with the French Revolution. The Estates General of France were convoked only twice between 1614 and 1789, both times during the Fronde (1648–53), and in neither case did they actually meet. At the final meeting of the Estates in 1789, they voted to join together in a single National Assembly, generally seen as marking the start of the French Revolution. Estates continued to meet in Navarre until 1828, in Hungary until 1848, in Sweden until 1866, and in the Duchy of Mecklenburg until 1918.']"
      ]
     },
     "execution_count": 10,
     "metadata": {},
     "output_type": "execute_result"
    }
   ],
   "source": [
    "contexts"
   ]
  },
  {
   "cell_type": "code",
   "execution_count": 11,
   "metadata": {},
   "outputs": [
    {
     "name": "stderr",
     "output_type": "stream",
     "text": [
      "All PyTorch model weights were used when initializing TFAlbertForQuestionAnswering.\n",
      "\n",
      "All the weights of TFAlbertForQuestionAnswering were initialized from the TF 2.0 model.\n",
      "If your task is similar to the task the model of the ckeckpoint was trained on, you can already use TFAlbertForQuestionAnswering for predictions without further training.\n"
     ]
    }
   ],
   "source": [
    "doc_reader = DocumentReader(model_name, tokenizer_name)"
   ]
  },
  {
   "cell_type": "code",
   "execution_count": 12,
   "metadata": {},
   "outputs": [
    {
     "name": "stdout",
     "output_type": "stream",
     "text": [
      "context length for item {i} is bigger then 512, need to perform chunking\n",
      "context length for item {i} is bigger then 512, need to perform chunking\n",
      "context length for item {i} is bigger then 512, need to perform chunking\n",
      "context length for item {i} is bigger then 512, need to perform chunking\n"
     ]
    }
   ],
   "source": [
    "results = []\n",
    "\n",
    "for i, context in enumerate(contexts):        \n",
    "    try:\n",
    "        if len(context) > 512:\n",
    "            print('context length for item {i} is bigger then 512, need to perform chunking')\n",
    "            chunks = list(get_chunks(context, 511))\n",
    "            for chunk in chunks:\n",
    "                final_answer = doc_reader.get_answer(question, chunk)\n",
    "                results.append(final_answer)\n",
    "        \n",
    "        \n",
    "        final_answer = doc_reader.get_answer(question, context)\n",
    "        \n",
    "        results.append(final_answer)\n",
    "    except Exception as e:\n",
    "        print(f'We could not process item under {i}. Reason is: {e}')"
   ]
  },
  {
   "cell_type": "code",
   "execution_count": 13,
   "metadata": {},
   "outputs": [
    {
     "data": {
      "text/plain": [
       "[('', 0.9999689),\n",
       " ('', 1.0),\n",
       " ('at the end of the decade', 0.47464043),\n",
       " ('', 1.0),\n",
       " ('', 1.0),\n",
       " ('', 1.0),\n",
       " ('', 1.0),\n",
       " ('', 0.9999989),\n",
       " ('close of the last century', 0.56139755),\n",
       " ('close of the last century', 0.58253634),\n",
       " ('', 0.9999589),\n",
       " ('', 0.99999964),\n",
       " ('', 0.9999305),\n",
       " ('1789', 0.834982),\n",
       " ('', 1.0),\n",
       " ('1789', 0.79961985)]"
      ]
     },
     "execution_count": 13,
     "metadata": {},
     "output_type": "execute_result"
    }
   ],
   "source": [
    "results"
   ]
  },
  {
   "cell_type": "code",
   "execution_count": null,
   "metadata": {},
   "outputs": [],
   "source": []
  }
 ],
 "metadata": {
  "kernelspec": {
   "display_name": "Python 3",
   "language": "python",
   "name": "python3"
  },
  "language_info": {
   "codemirror_mode": {
    "name": "ipython",
    "version": 3
   },
   "file_extension": ".py",
   "mimetype": "text/x-python",
   "name": "python",
   "nbconvert_exporter": "python",
   "pygments_lexer": "ipython3",
   "version": "3.7.7"
  }
 },
 "nbformat": 4,
 "nbformat_minor": 4
}
